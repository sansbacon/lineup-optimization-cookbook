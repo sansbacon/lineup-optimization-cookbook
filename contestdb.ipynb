{
 "metadata": {
  "language_info": {
   "codemirror_mode": {
    "name": "ipython",
    "version": 3
   },
   "file_extension": ".py",
   "mimetype": "text/x-python",
   "name": "python",
   "nbconvert_exporter": "python",
   "pygments_lexer": "ipython3",
   "version": "3.7.7-final"
  },
  "orig_nbformat": 2,
  "kernelspec": {
   "name": "python3",
   "display_name": "Python 3",
   "language": "python"
  }
 },
 "nbformat": 4,
 "nbformat_minor": 2,
 "cells": [
  {
   "cell_type": "code",
   "execution_count": 1,
   "metadata": {},
   "outputs": [],
   "source": [
    "import json\n",
    "from pathlib import Path\n",
    "\n",
    "import pandas as pd"
   ]
  },
  {
   "cell_type": "code",
   "execution_count": 3,
   "metadata": {},
   "outputs": [],
   "source": [
    "# load week 1 json\n",
    "with open('data/09_13_2020.json', 'r') as f:\n",
    "    data = json.load(f)"
   ]
  },
  {
   "cell_type": "code",
   "execution_count": 4,
   "metadata": {},
   "outputs": [],
   "source": [
    "# step 1: limit to NFL slates\n",
    "# there are NBA, MLB, etc. in this file\n",
    "nfl = [item for item in data if 'QB' in item['startingPositions']]"
   ]
  },
  {
   "cell_type": "code",
   "execution_count": 5,
   "metadata": {},
   "outputs": [
    {
     "output_type": "execute_result",
     "data": {
      "text/plain": [
       "[3, 2, 3, 12, 15, 9]"
      ]
     },
     "metadata": {},
     "execution_count": 5
    }
   ],
   "source": [
    "# step 2: find the main slate\n",
    "# most accurate way is to count teams from schedule\n",
    "# without that data available, we want the 2nd most games\n",
    "# here, we see that index 3 is main slate\n",
    "[item['gameCount'] for item in nfl]"
   ]
  },
  {
   "cell_type": "code",
   "execution_count": 6,
   "metadata": {},
   "outputs": [],
   "source": [
    "ms = nfl[3]"
   ]
  },
  {
   "cell_type": "code",
   "execution_count": 7,
   "metadata": {},
   "outputs": [],
   "source": [
    "# one thing of value to get are the slate players\n",
    "df = pd.DataFrame(ms['slatePlayers'])"
   ]
  },
  {
   "cell_type": "code",
   "execution_count": 8,
   "metadata": {},
   "outputs": [
    {
     "output_type": "execute_result",
     "data": {
      "text/plain": [
       "                  name               dkName siteSlatePlayerId slatePosition  \\\n",
       "0  Christian McCaffrey  Christian McCaffrey          15033483       RB/FLEX   \n",
       "1       Michael Thomas       Michael Thomas          15033799       WR/FLEX   \n",
       "2        Lamar Jackson        Lamar Jackson          15033397            QB   \n",
       "3          Dalvin Cook          Dalvin Cook          15033485       RB/FLEX   \n",
       "4          Julio Jones          Julio Jones          15033801       WR/FLEX   \n",
       "\n",
       "   salary team  projectedOwnership                           ecr rgPlayerId  \\\n",
       "0   10000  CAR               0.204  {'average': 2.13, 'rank': 1}      36994   \n",
       "1    9000  NOS               0.141  {'average': 3.25, 'rank': 2}      35596   \n",
       "2    8100  BAL               0.139   {'average': 1.5, 'rank': 1}     328097   \n",
       "3    7900  MIN               0.092  {'average': 5.63, 'rank': 4}      36885   \n",
       "4    7700  ATL               0.121  {'average': 9.25, 'rank': 6}      12896   \n",
       "\n",
       "   projectedFpts    statId scheduleId opponent  teamId  \\\n",
       "0          26.11  844666.0      70353      LVR    22.0   \n",
       "1          23.85  844838.0      70360      TBB    23.0   \n",
       "2          26.22  844594.0      70350      CLE     1.0   \n",
       "3          20.51  844800.0      70358      GBP     8.0   \n",
       "4          20.51  844739.0      70356      SEA    21.0   \n",
       "\n",
       "                        _id  \n",
       "0  5f6108d6b582b575983696ea  \n",
       "1  5f6108d6b582b575983696e9  \n",
       "2  5f6108d6b582b575983696e8  \n",
       "3  5f6108d6b582b575983696e7  \n",
       "4  5f6108d6b582b575983696e6  "
      ],
      "text/html": "<div>\n<style scoped>\n    .dataframe tbody tr th:only-of-type {\n        vertical-align: middle;\n    }\n\n    .dataframe tbody tr th {\n        vertical-align: top;\n    }\n\n    .dataframe thead th {\n        text-align: right;\n    }\n</style>\n<table border=\"1\" class=\"dataframe\">\n  <thead>\n    <tr style=\"text-align: right;\">\n      <th></th>\n      <th>name</th>\n      <th>dkName</th>\n      <th>siteSlatePlayerId</th>\n      <th>slatePosition</th>\n      <th>salary</th>\n      <th>team</th>\n      <th>projectedOwnership</th>\n      <th>ecr</th>\n      <th>rgPlayerId</th>\n      <th>projectedFpts</th>\n      <th>statId</th>\n      <th>scheduleId</th>\n      <th>opponent</th>\n      <th>teamId</th>\n      <th>_id</th>\n    </tr>\n  </thead>\n  <tbody>\n    <tr>\n      <th>0</th>\n      <td>Christian McCaffrey</td>\n      <td>Christian McCaffrey</td>\n      <td>15033483</td>\n      <td>RB/FLEX</td>\n      <td>10000</td>\n      <td>CAR</td>\n      <td>0.204</td>\n      <td>{'average': 2.13, 'rank': 1}</td>\n      <td>36994</td>\n      <td>26.11</td>\n      <td>844666.0</td>\n      <td>70353</td>\n      <td>LVR</td>\n      <td>22.0</td>\n      <td>5f6108d6b582b575983696ea</td>\n    </tr>\n    <tr>\n      <th>1</th>\n      <td>Michael Thomas</td>\n      <td>Michael Thomas</td>\n      <td>15033799</td>\n      <td>WR/FLEX</td>\n      <td>9000</td>\n      <td>NOS</td>\n      <td>0.141</td>\n      <td>{'average': 3.25, 'rank': 2}</td>\n      <td>35596</td>\n      <td>23.85</td>\n      <td>844838.0</td>\n      <td>70360</td>\n      <td>TBB</td>\n      <td>23.0</td>\n      <td>5f6108d6b582b575983696e9</td>\n    </tr>\n    <tr>\n      <th>2</th>\n      <td>Lamar Jackson</td>\n      <td>Lamar Jackson</td>\n      <td>15033397</td>\n      <td>QB</td>\n      <td>8100</td>\n      <td>BAL</td>\n      <td>0.139</td>\n      <td>{'average': 1.5, 'rank': 1}</td>\n      <td>328097</td>\n      <td>26.22</td>\n      <td>844594.0</td>\n      <td>70350</td>\n      <td>CLE</td>\n      <td>1.0</td>\n      <td>5f6108d6b582b575983696e8</td>\n    </tr>\n    <tr>\n      <th>3</th>\n      <td>Dalvin Cook</td>\n      <td>Dalvin Cook</td>\n      <td>15033485</td>\n      <td>RB/FLEX</td>\n      <td>7900</td>\n      <td>MIN</td>\n      <td>0.092</td>\n      <td>{'average': 5.63, 'rank': 4}</td>\n      <td>36885</td>\n      <td>20.51</td>\n      <td>844800.0</td>\n      <td>70358</td>\n      <td>GBP</td>\n      <td>8.0</td>\n      <td>5f6108d6b582b575983696e7</td>\n    </tr>\n    <tr>\n      <th>4</th>\n      <td>Julio Jones</td>\n      <td>Julio Jones</td>\n      <td>15033801</td>\n      <td>WR/FLEX</td>\n      <td>7700</td>\n      <td>ATL</td>\n      <td>0.121</td>\n      <td>{'average': 9.25, 'rank': 6}</td>\n      <td>12896</td>\n      <td>20.51</td>\n      <td>844739.0</td>\n      <td>70356</td>\n      <td>SEA</td>\n      <td>21.0</td>\n      <td>5f6108d6b582b575983696e6</td>\n    </tr>\n  </tbody>\n</table>\n</div>"
     },
     "metadata": {},
     "execution_count": 8
    }
   ],
   "source": [
    "df.head()"
   ]
  },
  {
   "cell_type": "code",
   "execution_count": 28,
   "metadata": {},
   "outputs": [],
   "source": [
    "# fixes to make to data\n",
    "# break out ecr\n",
    "ecr_posavg = []\n",
    "ecr_posrank = []\n",
    "for row in df.itertuples():\n",
    "    ecr_posavg.append(row.ecr['average'] if isinstance(row.ecr, dict) else None)\n",
    "    ecr_posrank.append(row.ecr['rank'] if isinstance(row.ecr, dict) else None) "
   ]
  },
  {
   "cell_type": "code",
   "execution_count": 29,
   "metadata": {},
   "outputs": [],
   "source": [
    "df['ecr_posavg'] = ecr_posavg\n",
    "df['ecr_posrank'] = ecr_posrank"
   ]
  },
  {
   "cell_type": "code",
   "execution_count": 31,
   "metadata": {},
   "outputs": [],
   "source": [
    "# change slatePosition to pos\n",
    "df['pos'] = df.slatePosition.str.split('/').str[0]"
   ]
  },
  {
   "cell_type": "code",
   "execution_count": 36,
   "metadata": {},
   "outputs": [
    {
     "output_type": "execute_result",
     "data": {
      "text/plain": [
       "                    name  pos team opponent  salary  projectedOwnership  \\\n",
       "0    Christian McCaffrey   RB  CAR      LVR   10000               0.204   \n",
       "1         Michael Thomas   WR  NOS      TBB    9000               0.141   \n",
       "2          Lamar Jackson   QB  BAL      CLE    8100               0.139   \n",
       "3            Dalvin Cook   RB  MIN      GBP    7900               0.092   \n",
       "4            Julio Jones   WR  ATL      SEA    7700               0.121   \n",
       "..                   ...  ...  ...      ...     ...                 ...   \n",
       "667               Browns  DST  CLE      BAL    2200                 NaN   \n",
       "668                 Jets  DST  NYJ      BUF    2100                 NaN   \n",
       "669            Cardinals  DST  ARI      SFO    2100                 NaN   \n",
       "670             Dolphins  DST  MIA      NEP    2000                 NaN   \n",
       "671    WAS Football Team  DST  WAS      PHI    2000                 NaN   \n",
       "\n",
       "     ecr_posavg  ecr_posrank  projectedFpts  \n",
       "0          2.13          1.0          26.11  \n",
       "1          3.25          2.0          23.85  \n",
       "2          1.50          1.0          26.22  \n",
       "3          5.63          4.0          20.51  \n",
       "4          9.25          6.0          20.51  \n",
       "..          ...          ...            ...  \n",
       "667         NaN          NaN            NaN  \n",
       "668         NaN          NaN            NaN  \n",
       "669         NaN          NaN            NaN  \n",
       "670         NaN          NaN            NaN  \n",
       "671         NaN          NaN            NaN  \n",
       "\n",
       "[672 rows x 9 columns]"
      ],
      "text/html": "<div>\n<style scoped>\n    .dataframe tbody tr th:only-of-type {\n        vertical-align: middle;\n    }\n\n    .dataframe tbody tr th {\n        vertical-align: top;\n    }\n\n    .dataframe thead th {\n        text-align: right;\n    }\n</style>\n<table border=\"1\" class=\"dataframe\">\n  <thead>\n    <tr style=\"text-align: right;\">\n      <th></th>\n      <th>name</th>\n      <th>pos</th>\n      <th>team</th>\n      <th>opponent</th>\n      <th>salary</th>\n      <th>projectedOwnership</th>\n      <th>ecr_posavg</th>\n      <th>ecr_posrank</th>\n      <th>projectedFpts</th>\n    </tr>\n  </thead>\n  <tbody>\n    <tr>\n      <th>0</th>\n      <td>Christian McCaffrey</td>\n      <td>RB</td>\n      <td>CAR</td>\n      <td>LVR</td>\n      <td>10000</td>\n      <td>0.204</td>\n      <td>2.13</td>\n      <td>1.0</td>\n      <td>26.11</td>\n    </tr>\n    <tr>\n      <th>1</th>\n      <td>Michael Thomas</td>\n      <td>WR</td>\n      <td>NOS</td>\n      <td>TBB</td>\n      <td>9000</td>\n      <td>0.141</td>\n      <td>3.25</td>\n      <td>2.0</td>\n      <td>23.85</td>\n    </tr>\n    <tr>\n      <th>2</th>\n      <td>Lamar Jackson</td>\n      <td>QB</td>\n      <td>BAL</td>\n      <td>CLE</td>\n      <td>8100</td>\n      <td>0.139</td>\n      <td>1.50</td>\n      <td>1.0</td>\n      <td>26.22</td>\n    </tr>\n    <tr>\n      <th>3</th>\n      <td>Dalvin Cook</td>\n      <td>RB</td>\n      <td>MIN</td>\n      <td>GBP</td>\n      <td>7900</td>\n      <td>0.092</td>\n      <td>5.63</td>\n      <td>4.0</td>\n      <td>20.51</td>\n    </tr>\n    <tr>\n      <th>4</th>\n      <td>Julio Jones</td>\n      <td>WR</td>\n      <td>ATL</td>\n      <td>SEA</td>\n      <td>7700</td>\n      <td>0.121</td>\n      <td>9.25</td>\n      <td>6.0</td>\n      <td>20.51</td>\n    </tr>\n    <tr>\n      <th>...</th>\n      <td>...</td>\n      <td>...</td>\n      <td>...</td>\n      <td>...</td>\n      <td>...</td>\n      <td>...</td>\n      <td>...</td>\n      <td>...</td>\n      <td>...</td>\n    </tr>\n    <tr>\n      <th>667</th>\n      <td>Browns</td>\n      <td>DST</td>\n      <td>CLE</td>\n      <td>BAL</td>\n      <td>2200</td>\n      <td>NaN</td>\n      <td>NaN</td>\n      <td>NaN</td>\n      <td>NaN</td>\n    </tr>\n    <tr>\n      <th>668</th>\n      <td>Jets</td>\n      <td>DST</td>\n      <td>NYJ</td>\n      <td>BUF</td>\n      <td>2100</td>\n      <td>NaN</td>\n      <td>NaN</td>\n      <td>NaN</td>\n      <td>NaN</td>\n    </tr>\n    <tr>\n      <th>669</th>\n      <td>Cardinals</td>\n      <td>DST</td>\n      <td>ARI</td>\n      <td>SFO</td>\n      <td>2100</td>\n      <td>NaN</td>\n      <td>NaN</td>\n      <td>NaN</td>\n      <td>NaN</td>\n    </tr>\n    <tr>\n      <th>670</th>\n      <td>Dolphins</td>\n      <td>DST</td>\n      <td>MIA</td>\n      <td>NEP</td>\n      <td>2000</td>\n      <td>NaN</td>\n      <td>NaN</td>\n      <td>NaN</td>\n      <td>NaN</td>\n    </tr>\n    <tr>\n      <th>671</th>\n      <td>WAS Football Team</td>\n      <td>DST</td>\n      <td>WAS</td>\n      <td>PHI</td>\n      <td>2000</td>\n      <td>NaN</td>\n      <td>NaN</td>\n      <td>NaN</td>\n      <td>NaN</td>\n    </tr>\n  </tbody>\n</table>\n<p>672 rows × 9 columns</p>\n</div>"
     },
     "metadata": {},
     "execution_count": 36
    }
   ],
   "source": [
    "# select columns \n",
    "wanted = ['name', 'pos', 'team', 'opponent', 'salary', 'projectedOwnership', 'ecr_posavg', 'ecr_posrank', 'projectedFpts']\n",
    "df.loc[:, wanted]"
   ]
  },
  {
   "cell_type": "code",
   "execution_count": null,
   "metadata": {},
   "outputs": [],
   "source": []
  }
 ]
}