{
 "metadata": {
  "language_info": {
   "codemirror_mode": {
    "name": "ipython",
    "version": 3
   },
   "file_extension": ".py",
   "mimetype": "text/x-python",
   "name": "python",
   "nbconvert_exporter": "python",
   "pygments_lexer": "ipython3",
   "version": "3.9.1-final"
  },
  "orig_nbformat": 2,
  "kernelspec": {
   "name": "python39164bitlineupoptimizationcookbookconda49472229ec7a4a11ac2c7d808d8c261d",
   "display_name": "Python 3.9.1 64-bit ('lineup-optimization-cookbook': conda)",
   "language": "python"
  }
 },
 "nbformat": 4,
 "nbformat_minor": 2,
 "cells": [
  {
   "cell_type": "code",
   "execution_count": 14,
   "metadata": {},
   "outputs": [],
   "source": [
    "import csv\n",
    "from io import StringIO\n",
    "from pprint import pformat, pprint\n",
    "\n",
    "import pandas as pd\n",
    "from pydfs_lineup_optimizer import get_optimizer, Player, Site, Sport"
   ]
  },
  {
   "source": [
    "# The Player object"
   ],
   "cell_type": "markdown",
   "metadata": {}
  },
  {
   "source": [
    "## Creating Player instances"
   ],
   "cell_type": "markdown",
   "metadata": {}
  },
  {
   "cell_type": "code",
   "execution_count": 2,
   "metadata": {},
   "outputs": [
    {
     "output_type": "stream",
     "text": [
      "\u001b[0;31mInit signature:\u001b[0m\n",
      "\u001b[0mPlayer\u001b[0m\u001b[0;34m(\u001b[0m\u001b[0;34m\u001b[0m\n",
      "\u001b[0;34m\u001b[0m    \u001b[0mplayer_id\u001b[0m\u001b[0;34m:\u001b[0m \u001b[0mstr\u001b[0m\u001b[0;34m,\u001b[0m\u001b[0;34m\u001b[0m\n",
      "\u001b[0;34m\u001b[0m    \u001b[0mfirst_name\u001b[0m\u001b[0;34m:\u001b[0m \u001b[0mstr\u001b[0m\u001b[0;34m,\u001b[0m\u001b[0;34m\u001b[0m\n",
      "\u001b[0;34m\u001b[0m    \u001b[0mlast_name\u001b[0m\u001b[0;34m:\u001b[0m \u001b[0mstr\u001b[0m\u001b[0;34m,\u001b[0m\u001b[0;34m\u001b[0m\n",
      "\u001b[0;34m\u001b[0m    \u001b[0mpositions\u001b[0m\u001b[0;34m:\u001b[0m \u001b[0mList\u001b[0m\u001b[0;34m[\u001b[0m\u001b[0mstr\u001b[0m\u001b[0;34m]\u001b[0m\u001b[0;34m,\u001b[0m\u001b[0;34m\u001b[0m\n",
      "\u001b[0;34m\u001b[0m    \u001b[0mteam\u001b[0m\u001b[0;34m:\u001b[0m \u001b[0mstr\u001b[0m\u001b[0;34m,\u001b[0m\u001b[0;34m\u001b[0m\n",
      "\u001b[0;34m\u001b[0m    \u001b[0msalary\u001b[0m\u001b[0;34m:\u001b[0m \u001b[0mfloat\u001b[0m\u001b[0;34m,\u001b[0m\u001b[0;34m\u001b[0m\n",
      "\u001b[0;34m\u001b[0m    \u001b[0mfppg\u001b[0m\u001b[0;34m:\u001b[0m \u001b[0mfloat\u001b[0m\u001b[0;34m,\u001b[0m\u001b[0;34m\u001b[0m\n",
      "\u001b[0;34m\u001b[0m    \u001b[0mis_injured\u001b[0m\u001b[0;34m:\u001b[0m \u001b[0mbool\u001b[0m \u001b[0;34m=\u001b[0m \u001b[0;32mFalse\u001b[0m\u001b[0;34m,\u001b[0m\u001b[0;34m\u001b[0m\n",
      "\u001b[0;34m\u001b[0m    \u001b[0mmax_exposure\u001b[0m\u001b[0;34m:\u001b[0m \u001b[0mOptional\u001b[0m\u001b[0;34m[\u001b[0m\u001b[0mfloat\u001b[0m\u001b[0;34m]\u001b[0m \u001b[0;34m=\u001b[0m \u001b[0;32mNone\u001b[0m\u001b[0;34m,\u001b[0m\u001b[0;34m\u001b[0m\n",
      "\u001b[0;34m\u001b[0m    \u001b[0mmin_exposure\u001b[0m\u001b[0;34m:\u001b[0m \u001b[0mOptional\u001b[0m\u001b[0;34m[\u001b[0m\u001b[0mfloat\u001b[0m\u001b[0;34m]\u001b[0m \u001b[0;34m=\u001b[0m \u001b[0;32mNone\u001b[0m\u001b[0;34m,\u001b[0m\u001b[0;34m\u001b[0m\n",
      "\u001b[0;34m\u001b[0m    \u001b[0mprojected_ownership\u001b[0m\u001b[0;34m:\u001b[0m \u001b[0mOptional\u001b[0m\u001b[0;34m[\u001b[0m\u001b[0mfloat\u001b[0m\u001b[0;34m]\u001b[0m \u001b[0;34m=\u001b[0m \u001b[0;32mNone\u001b[0m\u001b[0;34m,\u001b[0m\u001b[0;34m\u001b[0m\n",
      "\u001b[0;34m\u001b[0m    \u001b[0mgame_info\u001b[0m\u001b[0;34m:\u001b[0m \u001b[0mOptional\u001b[0m\u001b[0;34m[\u001b[0m\u001b[0mpydfs_lineup_optimizer\u001b[0m\u001b[0;34m.\u001b[0m\u001b[0mplayer\u001b[0m\u001b[0;34m.\u001b[0m\u001b[0mGameInfo\u001b[0m\u001b[0;34m]\u001b[0m \u001b[0;34m=\u001b[0m \u001b[0;32mNone\u001b[0m\u001b[0;34m,\u001b[0m\u001b[0;34m\u001b[0m\n",
      "\u001b[0;34m\u001b[0m    \u001b[0mroster_order\u001b[0m\u001b[0;34m:\u001b[0m \u001b[0mOptional\u001b[0m\u001b[0;34m[\u001b[0m\u001b[0mint\u001b[0m\u001b[0;34m]\u001b[0m \u001b[0;34m=\u001b[0m \u001b[0;32mNone\u001b[0m\u001b[0;34m,\u001b[0m\u001b[0;34m\u001b[0m\n",
      "\u001b[0;34m\u001b[0m    \u001b[0mmin_deviation\u001b[0m\u001b[0;34m:\u001b[0m \u001b[0mOptional\u001b[0m\u001b[0;34m[\u001b[0m\u001b[0mfloat\u001b[0m\u001b[0;34m]\u001b[0m \u001b[0;34m=\u001b[0m \u001b[0;32mNone\u001b[0m\u001b[0;34m,\u001b[0m\u001b[0;34m\u001b[0m\n",
      "\u001b[0;34m\u001b[0m    \u001b[0mmax_deviation\u001b[0m\u001b[0;34m:\u001b[0m \u001b[0mOptional\u001b[0m\u001b[0;34m[\u001b[0m\u001b[0mfloat\u001b[0m\u001b[0;34m]\u001b[0m \u001b[0;34m=\u001b[0m \u001b[0;32mNone\u001b[0m\u001b[0;34m,\u001b[0m\u001b[0;34m\u001b[0m\n",
      "\u001b[0;34m\u001b[0m    \u001b[0mis_confirmed_starter\u001b[0m\u001b[0;34m:\u001b[0m \u001b[0mOptional\u001b[0m\u001b[0;34m[\u001b[0m\u001b[0mbool\u001b[0m\u001b[0;34m]\u001b[0m \u001b[0;34m=\u001b[0m \u001b[0;32mNone\u001b[0m\u001b[0;34m,\u001b[0m\u001b[0;34m\u001b[0m\n",
      "\u001b[0;34m\u001b[0m    \u001b[0mfppg_floor\u001b[0m\u001b[0;34m:\u001b[0m \u001b[0mOptional\u001b[0m\u001b[0;34m[\u001b[0m\u001b[0mfloat\u001b[0m\u001b[0;34m]\u001b[0m \u001b[0;34m=\u001b[0m \u001b[0;32mNone\u001b[0m\u001b[0;34m,\u001b[0m\u001b[0;34m\u001b[0m\n",
      "\u001b[0;34m\u001b[0m    \u001b[0mfppg_ceil\u001b[0m\u001b[0;34m:\u001b[0m \u001b[0mOptional\u001b[0m\u001b[0;34m[\u001b[0m\u001b[0mfloat\u001b[0m\u001b[0;34m]\u001b[0m \u001b[0;34m=\u001b[0m \u001b[0;32mNone\u001b[0m\u001b[0;34m,\u001b[0m\u001b[0;34m\u001b[0m\n",
      "\u001b[0;34m\u001b[0m    \u001b[0moriginal_positions\u001b[0m\u001b[0;34m:\u001b[0m \u001b[0mOptional\u001b[0m\u001b[0;34m[\u001b[0m\u001b[0mList\u001b[0m\u001b[0;34m[\u001b[0m\u001b[0mstr\u001b[0m\u001b[0;34m]\u001b[0m\u001b[0;34m]\u001b[0m \u001b[0;34m=\u001b[0m \u001b[0;32mNone\u001b[0m\u001b[0;34m,\u001b[0m\u001b[0;34m\u001b[0m\n",
      "\u001b[0;34m\u001b[0m\u001b[0;34m)\u001b[0m\u001b[0;34m\u001b[0m\u001b[0;34m\u001b[0m\u001b[0m\n",
      "\u001b[0;31mDocstring:\u001b[0m      <no docstring>\n",
      "\u001b[0;31mFile:\u001b[0m           ~/miniconda3/envs/lineup-optimization-cookbook/lib/python3.9/site-packages/pydfs_lineup_optimizer/player.py\n",
      "\u001b[0;31mType:\u001b[0m           type\n",
      "\u001b[0;31mSubclasses:\u001b[0m     \n"
     ],
     "name": "stdout"
    }
   ],
   "source": [
    "p = Player?"
   ]
  },
  {
   "cell_type": "code",
   "execution_count": 5,
   "metadata": {},
   "outputs": [
    {
     "output_type": "error",
     "ename": "TypeError",
     "evalue": "__init__() missing 7 required positional arguments: 'player_id', 'first_name', 'last_name', 'positions', 'team', 'salary', and 'fppg'",
     "traceback": [
      "\u001b[0;31m---------------------------------------------------------------------------\u001b[0m",
      "\u001b[0;31mTypeError\u001b[0m                                 Traceback (most recent call last)",
      "\u001b[0;32m<ipython-input-5-eb39572e5071>\u001b[0m in \u001b[0;36m<module>\u001b[0;34m\u001b[0m\n\u001b[0;32m----> 1\u001b[0;31m \u001b[0mp\u001b[0m \u001b[0;34m=\u001b[0m \u001b[0mPlayer\u001b[0m\u001b[0;34m(\u001b[0m\u001b[0;34m)\u001b[0m\u001b[0;34m\u001b[0m\u001b[0;34m\u001b[0m\u001b[0m\n\u001b[0m",
      "\u001b[0;31mTypeError\u001b[0m: __init__() missing 7 required positional arguments: 'player_id', 'first_name', 'last_name', 'positions', 'team', 'salary', and 'fppg'"
     ]
    }
   ],
   "source": [
    "# At a minimum, need to pass these seven parameters\n",
    "# 'player_id', \n",
    "# 'first_name', \n",
    "# 'last_name', \n",
    "# 'positions', \n",
    "# 'team', \n",
    "# 'salary', \n",
    "# 'fppg'\n",
    "p = Player()"
   ]
  },
  {
   "cell_type": "code",
   "execution_count": 6,
   "metadata": {},
   "outputs": [],
   "source": [
    "# instantiate a player object using the bare necessities\n",
    "p = Player(\n",
    "    player_id=1,\n",
    "    first_name='Patrick',\n",
    "    last_name='Mahomes',\n",
    "    positions=['QB'],\n",
    "    team='KC',\n",
    "    salary=7800,\n",
    "    fppg=25.5\n",
    ")"
   ]
  },
  {
   "source": [
    "## Loading players from csv file"
   ],
   "cell_type": "markdown",
   "metadata": {}
  },
  {
   "cell_type": "code",
   "execution_count": 34,
   "metadata": {},
   "outputs": [],
   "source": [
    "data = StringIO(\"\"\"player_id,first_name,last_name,positions,team,salary,fppg\n",
    "1,Patrick,Mahomes,QB,KC,7900,25.5\n",
    "2,Tom,Brady,QB,TB,7200,22.3\n",
    "3,Ronald,Jones,RB,TB,4400,8.9\n",
    "4,Leonard,Fournette,RB,TB,5700,12.8\n",
    "5,Darrel,Williams,RB,KC,4900,9.3\n",
    "6,Clyde,Edwards-Helaire,RB,KC,5700,11.6\n",
    "7,LeVeon,Bell,RB,KC,3900,4.2\n",
    "8,Keyshawn,Vaughn,RB,TB,3700,4.0\n",
    "9,Chris,Godwin,WR,TB,7100,18.2\n",
    "10,Tyreek,Hill,WR,KC,7700,19.4\n",
    "11,Sammy,Watkins,WR,KC,4700,11.1\n",
    "12,Antonio,Brown,WR,TB,5200,12.2\n",
    "13,Mike,Evans,WR,TB,6600,15.8\n",
    "14,Scotty,Miller,WR,TB,4200,8.8\n",
    "15,Mecole,Hardman,WR,KC,4100,8.7\n",
    "16,Travis,Kelce,TE,KC,8200,20.4\n",
    "17,Rob,Gronkowski,TE,TB,4400,9.3\n",
    "18,Cameron,Brate,TE,TB,4600,10.1\n",
    "19,Kansas City,Defense,DST,KC,3300,5.2\n",
    "20,Tampa,Defense,DST,TB,3100,5.1\n",
    "\"\"\")"
   ]
  },
  {
   "cell_type": "code",
   "execution_count": 37,
   "metadata": {},
   "outputs": [],
   "source": [
    "players = []\n",
    "for row in csv.DictReader(data):\n",
    "    players.append(Player(**row))"
   ]
  },
  {
   "cell_type": "code",
   "execution_count": 38,
   "metadata": {},
   "outputs": [
    {
     "output_type": "execute_result",
     "data": {
      "text/plain": [
       "[Patrick Mahomes Q/B (KC),\n",
       " Tom Brady Q/B (TB),\n",
       " Ronald Jones R/B (TB),\n",
       " Leonard Fournette R/B (TB),\n",
       " Darrel Williams R/B (KC),\n",
       " Clyde Edwards-Helaire R/B (KC),\n",
       " LeVeon Bell R/B (KC),\n",
       " Keyshawn Vaughn R/B (TB),\n",
       " Chris Godwin W/R (TB),\n",
       " Tyreek Hill W/R (KC),\n",
       " Sammy Watkins W/R (KC),\n",
       " Antonio Brown W/R (TB),\n",
       " Mike Evans W/R (TB),\n",
       " Scotty Miller W/R (TB),\n",
       " Mecole Hardman W/R (KC),\n",
       " Travis Kelce T/E (KC),\n",
       " Rob Gronkowski T/E (TB),\n",
       " Cameron Brate T/E (TB),\n",
       " Kansas City Defense D/S/T (KC),\n",
       " Tampa Defense D/S/T (TB)]"
      ]
     },
     "metadata": {},
     "execution_count": 38
    }
   ],
   "source": [
    "players"
   ]
  },
  {
   "source": [
    "## Loading players from pandas dataframe"
   ],
   "cell_type": "markdown",
   "metadata": {}
  },
  {
   "cell_type": "code",
   "execution_count": 39,
   "metadata": {},
   "outputs": [],
   "source": [
    "data = StringIO(\"\"\"player_id,first_name,last_name,positions,team,salary,fppg,projected_ownership\n",
    "1,Patrick,Mahomes,QB,KC,7900,25.5,32\n",
    "2,Tom,Brady,QB,TB,7200,22.3,28\n",
    "3,Ronald,Jones,RB,TB,4400,8.9,11\n",
    "4,Leonard,Fournette,RB,TB,5700,12.8,17\n",
    "5,Darrel,Williams,RB,KC,4900,9.3,14\n",
    "6,Clyde,Edwards-Helaire,RB,KC,5700,11.6,19\n",
    "7,LeVeon,Bell,RB,KC,3900,4.2,8\n",
    "8,Keyshawn,Vaughn,RB,TB,3700,4.0,2\n",
    "9,Chris,Godwin,WR,TB,7100,18.2,41\n",
    "10,Tyreek,Hill,WR,KC,7700,19.4,39\n",
    "11,Sammy,Watkins,WR,KC,4700,11.1,22\n",
    "12,Antonio,Brown,WR,TB,5200,12.2,18\n",
    "13,Mike,Evans,WR,TB,6600,15.8,36\n",
    "14,Scotty,Miller,WR,TB,4200,8.8,12\n",
    "15,Mecole,Hardman,WR,KC,4100,8.7,7\n",
    "16,Travis,Kelce,TE,KC,8200,20.4,59\n",
    "17,Rob,Gronkowski,TE,TB,4400,9.3,22\n",
    "18,Cameron,Brate,TE,TB,4600,10.1,19\n",
    "19,Kansas City,Defense,DST,KC,3300,5.2,60\n",
    "20,Tampa,Defense,DST,TB,3100,5.1,40\n",
    "\"\"\")"
   ]
  },
  {
   "cell_type": "code",
   "execution_count": 40,
   "metadata": {},
   "outputs": [],
   "source": [
    "# assume you have a dataframe with the columns above\n",
    "df = pd.read_csv(data)"
   ]
  },
  {
   "cell_type": "code",
   "execution_count": 41,
   "metadata": {},
   "outputs": [],
   "source": [
    "def row_to_player(row):\n",
    "    \"\"\"Converts dataframe row to Player object\n",
    "    \n",
    "    Args:\n",
    "        row (namedtuple): dataframe row\n",
    "    \n",
    "    Returns:\n",
    "        Player\n",
    "    \"\"\"\n",
    "    valid_kwargs = {\n",
    "        'is_injured', 'max_exposure', 'min_exposure', \n",
    "        'projected_ownership', 'game_info', 'roster_order', \n",
    "        'min_deviation', 'max_deviation', 'is_confirmed_starter', \n",
    "        'fppg_floor', 'fppg_ceil'\n",
    "    }\n",
    "\n",
    "    kwargs = {}\n",
    "    for name, value in row._asdict().items():\n",
    "        if name in valid_kwargs:\n",
    "            kwargs[name] = value    \n",
    "    \n",
    "    return Player (\n",
    "            player_id=getattr(row, 'id') if hasattr(row, 'id') else row.first_name + ' ' + row.last_name, \n",
    "            first_name=row.first_name,\n",
    "            last_name=row.last_name,\n",
    "            positions=[row.positions],\n",
    "            team=row.team,\n",
    "            salary=row.salary,\n",
    "            fppg=row.fppg,\n",
    "            **kwargs\n",
    "    )\n",
    "\n",
    "players = [row_to_player(row) for row in df.itertuples(index=False)]"
   ]
  },
  {
   "cell_type": "code",
   "execution_count": 42,
   "metadata": {},
   "outputs": [
    {
     "output_type": "execute_result",
     "data": {
      "text/plain": [
       "[Patrick Mahomes QB (KC),\n",
       " Tom Brady QB (TB),\n",
       " Ronald Jones RB (TB),\n",
       " Leonard Fournette RB (TB),\n",
       " Darrel Williams RB (KC),\n",
       " Clyde Edwards-Helaire RB (KC),\n",
       " LeVeon Bell RB (KC),\n",
       " Keyshawn Vaughn RB (TB),\n",
       " Chris Godwin WR (TB),\n",
       " Tyreek Hill WR (KC),\n",
       " Sammy Watkins WR (KC),\n",
       " Antonio Brown WR (TB),\n",
       " Mike Evans WR (TB),\n",
       " Scotty Miller WR (TB),\n",
       " Mecole Hardman WR (KC),\n",
       " Travis Kelce TE (KC),\n",
       " Rob Gronkowski TE (TB),\n",
       " Cameron Brate TE (TB),\n",
       " Kansas City Defense DST (KC),\n",
       " Tampa Defense DST (TB)]"
      ]
     },
     "metadata": {},
     "execution_count": 42
    }
   ],
   "source": [
    "players"
   ]
  },
  {
   "source": [
    "## Inspecting Player objects"
   ],
   "cell_type": "markdown",
   "metadata": {}
  },
  {
   "cell_type": "code",
   "execution_count": 4,
   "metadata": {},
   "outputs": [
    {
     "output_type": "stream",
     "name": "stdout",
     "text": [
      "Patrick Mahomes QB (KC)\n"
     ]
    }
   ],
   "source": [
    "# when we print Player, only get limited information\n",
    "p = Player(\n",
    "    player_id=1,\n",
    "    first_name='Patrick',\n",
    "    last_name='Mahomes',\n",
    "    positions=['QB'],\n",
    "    team='KC',\n",
    "    salary=7800,\n",
    "    fppg=25.5\n",
    ")\n",
    "\n",
    "print(p)"
   ]
  },
  {
   "cell_type": "code",
   "execution_count": 5,
   "metadata": {},
   "outputs": [
    {
     "output_type": "stream",
     "text": [
      "\u001b[0;31mSignature:\u001b[0m \u001b[0mPlayer\u001b[0m\u001b[0;34m.\u001b[0m\u001b[0m__repr__\u001b[0m\u001b[0;34m(\u001b[0m\u001b[0mself\u001b[0m\u001b[0;34m)\u001b[0m\u001b[0;34m\u001b[0m\u001b[0;34m\u001b[0m\u001b[0m\n",
      "\u001b[0;31mDocstring:\u001b[0m Return repr(self).\n",
      "\u001b[0;31mSource:\u001b[0m   \n",
      "    \u001b[0;32mdef\u001b[0m \u001b[0m__repr__\u001b[0m\u001b[0;34m(\u001b[0m\u001b[0mself\u001b[0m\u001b[0;34m)\u001b[0m\u001b[0;34m:\u001b[0m\u001b[0;34m\u001b[0m\n",
      "\u001b[0;34m\u001b[0m        \u001b[0;32mreturn\u001b[0m \u001b[0;34m'%s %s (%s)'\u001b[0m \u001b[0;34m%\u001b[0m \u001b[0;34m(\u001b[0m\u001b[0mself\u001b[0m\u001b[0;34m.\u001b[0m\u001b[0mfull_name\u001b[0m\u001b[0;34m,\u001b[0m \u001b[0;34m'/'\u001b[0m\u001b[0;34m.\u001b[0m\u001b[0mjoin\u001b[0m\u001b[0;34m(\u001b[0m\u001b[0mself\u001b[0m\u001b[0;34m.\u001b[0m\u001b[0mpositions\u001b[0m\u001b[0;34m)\u001b[0m\u001b[0;34m,\u001b[0m \u001b[0mself\u001b[0m\u001b[0;34m.\u001b[0m\u001b[0mteam\u001b[0m\u001b[0;34m)\u001b[0m\u001b[0;34m\u001b[0m\u001b[0;34m\u001b[0m\u001b[0m\n",
      "\u001b[0;31mFile:\u001b[0m      ~/miniconda3/envs/lineup-optimization-cookbook/lib/python3.9/site-packages/pydfs_lineup_optimizer/player.py\n",
      "\u001b[0;31mType:\u001b[0m      function\n"
     ],
     "name": "stdout"
    }
   ],
   "source": [
    "# controlled by object's __repr__ method\n",
    "# here it is only the full_name, positions, team\n",
    "Player.__repr__??"
   ]
  },
  {
   "cell_type": "code",
   "execution_count": 9,
   "metadata": {},
   "outputs": [
    {
     "output_type": "stream",
     "name": "stdout",
     "text": [
      "Using print_player function\n{ '_max_deviation': None,\n  '_max_exposure': None,\n  '_min_deviation': None,\n  '_min_exposure': None,\n  '_original_positions': None,\n  '_projected_ownership': None,\n  'first_name': 'Patrick',\n  'fppg': 25.5,\n  'fppg_ceil': None,\n  'fppg_floor': None,\n  'game_info': None,\n  'id': 1,\n  'is_confirmed_starter': None,\n  'is_injured': False,\n  'last_name': 'Mahomes',\n  'positions': ['QB'],\n  'roster_order': None,\n  'salary': 7800,\n  'team': 'KC'}\n\nUsing subclassed object\n{ '_max_deviation': None,\n  '_max_exposure': None,\n  '_min_deviation': None,\n  '_min_exposure': None,\n  '_original_positions': None,\n  '_projected_ownership': None,\n  'first_name': 'Patrick',\n  'fppg': 25.5,\n  'fppg_ceil': None,\n  'fppg_floor': None,\n  'game_info': None,\n  'id': 1,\n  'is_confirmed_starter': None,\n  'is_injured': False,\n  'last_name': 'Mahomes',\n  'positions': ['QB'],\n  'roster_order': None,\n  'salary': 7800,\n  'team': 'KC'}\n"
     ]
    }
   ],
   "source": [
    "# if we want more information, can either subclass player\n",
    "# or can also have a function to print Player objects\n",
    "class PrettyPlayer(Player):\n",
    "    def __repr__(self):\n",
    "        return pformat(vars(p), indent=2)\n",
    "\n",
    "def print_player(p):\n",
    "    pprint(vars(p), indent=2)\n",
    "\n",
    "pp = PrettyPlayer(\n",
    "    player_id=1,\n",
    "    first_name='Patrick',\n",
    "    last_name='Mahomes',\n",
    "    positions=['QB'],\n",
    "    team='KC',\n",
    "    salary=7800,\n",
    "    fppg=25.5\n",
    ")\n",
    "\n",
    "print('Using print_player function')\n",
    "print_player(p)\n",
    "print()\n",
    "print('Using subclassed object')\n",
    "print(pp)"
   ]
  },
  {
   "source": [
    "# Loading Players"
   ],
   "cell_type": "markdown",
   "metadata": {}
  },
  {
   "cell_type": "code",
   "execution_count": 43,
   "metadata": {},
   "outputs": [],
   "source": [
    "o = get_optimizer(site=Site.DRAFTKINGS, sport=Sport.FOOTBALL)"
   ]
  },
  {
   "cell_type": "code",
   "execution_count": 44,
   "metadata": {},
   "outputs": [],
   "source": [
    "data = StringIO(\"\"\"player_id,first_name,last_name,positions,team,salary,fppg\n",
    "1,Patrick,Mahomes,QB,KC,7900,25.5\n",
    "2,Tom,Brady,QB,TB,7200,22.3\n",
    "3,Ronald,Jones,RB,TB,4400,8.9\n",
    "4,Leonard,Fournette,RB,TB,5700,12.8\n",
    "5,Darrel,Williams,RB,KC,4900,9.3\n",
    "6,Clyde,Edwards-Helaire,RB,KC,5700,11.6\n",
    "7,LeVeon,Bell,RB,KC,3900,4.2\n",
    "8,Keyshawn,Vaughn,RB,TB,3700,4.0\n",
    "9,Chris,Godwin,WR,TB,7100,18.2\n",
    "10,Tyreek,Hill,WR,KC,7700,19.4\n",
    "11,Sammy,Watkins,WR,KC,4700,11.1\n",
    "12,Antonio,Brown,WR,TB,5200,12.2\n",
    "13,Mike,Evans,WR,TB,6600,15.8\n",
    "14,Scotty,Miller,WR,TB,4200,8.8\n",
    "15,Mecole,Hardman,WR,KC,4100,8.7\n",
    "16,Travis,Kelce,TE,KC,8200,20.4\n",
    "17,Rob,Gronkowski,TE,TB,4400,9.3\n",
    "18,Cameron,Brate,TE,TB,4600,10.1\n",
    "19,Kansas City,Defense,DST,KC,3300,5.2\n",
    "20,Tampa,Defense,DST,TB,3100,5.1\n",
    "\"\"\")"
   ]
  },
  {
   "cell_type": "code",
   "execution_count": 45,
   "metadata": {},
   "outputs": [],
   "source": [
    "players = []\n",
    "for row in csv.DictReader(data):\n",
    "    players.append(Player(**row))"
   ]
  },
  {
   "cell_type": "code",
   "execution_count": 46,
   "metadata": {},
   "outputs": [],
   "source": [
    "o.load_players(players)"
   ]
  },
  {
   "cell_type": "code",
   "execution_count": 47,
   "metadata": {},
   "outputs": [
    {
     "output_type": "execute_result",
     "data": {
      "text/plain": [
       "True"
      ]
     },
     "metadata": {},
     "execution_count": 47
    }
   ],
   "source": [
    "o.players == players"
   ]
  },
  {
   "cell_type": "code",
   "execution_count": null,
   "metadata": {},
   "outputs": [],
   "source": []
  }
 ]
}