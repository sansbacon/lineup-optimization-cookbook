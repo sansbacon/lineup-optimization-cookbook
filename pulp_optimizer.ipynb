{
 "metadata": {
  "language_info": {
   "codemirror_mode": {
    "name": "ipython",
    "version": 3
   },
   "file_extension": ".py",
   "mimetype": "text/x-python",
   "name": "python",
   "nbconvert_exporter": "python",
   "pygments_lexer": "ipython3",
   "version": "3.9.1-final"
  },
  "orig_nbformat": 2,
  "kernelspec": {
   "name": "python39164bitlineupoptimizationcookbookconda49472229ec7a4a11ac2c7d808d8c261d",
   "display_name": "Python 3.9.1 64-bit ('lineup-optimization-cookbook': conda)",
   "language": "python"
  }
 },
 "nbformat": 4,
 "nbformat_minor": 2,
 "cells": [
  {
   "cell_type": "code",
   "execution_count": 1,
   "metadata": {},
   "outputs": [],
   "source": [
    "import pandas as pd\n",
    "import pulp"
   ]
  },
  {
   "source": [
    "# Using PuLP to Optimize Lineups"
   ],
   "cell_type": "markdown",
   "metadata": {}
  },
  {
   "source": [
    "## Loading Player Data"
   ],
   "cell_type": "markdown",
   "metadata": {}
  },
  {
   "cell_type": "code",
   "execution_count": 2,
   "metadata": {},
   "outputs": [],
   "source": [
    "df = pd.read_csv('data/pool.csv')"
   ]
  },
  {
   "cell_type": "code",
   "execution_count": 3,
   "metadata": {},
   "outputs": [
    {
     "output_type": "execute_result",
     "data": {
      "text/plain": [
       "    first_name last_name  pos team  salary  fppg            full_name\n",
       "0      Buffalo   Defense  DST  BUF    3200  21.0      Buffalo_Defense\n",
       "1      LA Rams   Defense  DST  LAR    3300  20.0      LA Rams_Defense\n",
       "2  New Orleans   Defense  DST  NOR    3400  17.0  New Orleans_Defense\n",
       "3    Baltimore   Defense  DST  BAL    4200  11.0    Baltimore_Defense\n",
       "4       Denver   Defense  DST  DEN    2400  10.0       Denver_Defense"
      ],
      "text/html": "<div>\n<style scoped>\n    .dataframe tbody tr th:only-of-type {\n        vertical-align: middle;\n    }\n\n    .dataframe tbody tr th {\n        vertical-align: top;\n    }\n\n    .dataframe thead th {\n        text-align: right;\n    }\n</style>\n<table border=\"1\" class=\"dataframe\">\n  <thead>\n    <tr style=\"text-align: right;\">\n      <th></th>\n      <th>first_name</th>\n      <th>last_name</th>\n      <th>pos</th>\n      <th>team</th>\n      <th>salary</th>\n      <th>fppg</th>\n      <th>full_name</th>\n    </tr>\n  </thead>\n  <tbody>\n    <tr>\n      <th>0</th>\n      <td>Buffalo</td>\n      <td>Defense</td>\n      <td>DST</td>\n      <td>BUF</td>\n      <td>3200</td>\n      <td>21.0</td>\n      <td>Buffalo_Defense</td>\n    </tr>\n    <tr>\n      <th>1</th>\n      <td>LA Rams</td>\n      <td>Defense</td>\n      <td>DST</td>\n      <td>LAR</td>\n      <td>3300</td>\n      <td>20.0</td>\n      <td>LA Rams_Defense</td>\n    </tr>\n    <tr>\n      <th>2</th>\n      <td>New Orleans</td>\n      <td>Defense</td>\n      <td>DST</td>\n      <td>NOR</td>\n      <td>3400</td>\n      <td>17.0</td>\n      <td>New Orleans_Defense</td>\n    </tr>\n    <tr>\n      <th>3</th>\n      <td>Baltimore</td>\n      <td>Defense</td>\n      <td>DST</td>\n      <td>BAL</td>\n      <td>4200</td>\n      <td>11.0</td>\n      <td>Baltimore_Defense</td>\n    </tr>\n    <tr>\n      <th>4</th>\n      <td>Denver</td>\n      <td>Defense</td>\n      <td>DST</td>\n      <td>DEN</td>\n      <td>2400</td>\n      <td>10.0</td>\n      <td>Denver_Defense</td>\n    </tr>\n  </tbody>\n</table>\n</div>"
     },
     "metadata": {},
     "execution_count": 3
    }
   ],
   "source": [
    "df.head()"
   ]
  },
  {
   "source": [
    "## Setting up the PuLP problem"
   ],
   "cell_type": "markdown",
   "metadata": {}
  },
  {
   "cell_type": "code",
   "execution_count": 4,
   "metadata": {},
   "outputs": [],
   "source": [
    "# setup problem\n",
    "prob = pulp.LpProblem('FPOpt', pulp.LpMaximize)\n",
    "\n",
    "# create variables\n",
    "# key is Player_{full_name}, value is pulp.LpVariable\n",
    "player_vars = pulp.LpVariable.dicts('Player', df.full_name, cat='Binary')\n"
   ]
  },
  {
   "cell_type": "code",
   "execution_count": 5,
   "metadata": {},
   "outputs": [
    {
     "output_type": "stream",
     "name": "stdout",
     "text": [
      "<class 'str'>\n<class 'pulp.pulp.LpVariable'>\n"
     ]
    }
   ],
   "source": [
    "# take a look at dict item\n",
    "# key is str, value is LpVariable\n",
    "k = list(player_vars.keys())[0]\n",
    "print(type(k))\n",
    "print(type(player_vars[k]))\n"
   ]
  },
  {
   "source": [
    "## Adding the Objective Function"
   ],
   "cell_type": "markdown",
   "metadata": {}
  },
  {
   "cell_type": "code",
   "execution_count": 6,
   "metadata": {},
   "outputs": [],
   "source": [
    "# objective function - sum of fantasy points\n",
    "prob += pulp.lpSum([pts * pvar for pvar, pts in zip(player_vars.values(), df.fppg)])"
   ]
  },
  {
   "source": [
    "## Core Constraints"
   ],
   "cell_type": "markdown",
   "metadata": {}
  },
  {
   "cell_type": "code",
   "execution_count": 7,
   "metadata": {},
   "outputs": [],
   "source": [
    "# constraint: salary must not exceed cap\n",
    "prob += pulp.lpSum([sal * pvar for pvar, sal in zip(player_vars.values(), df.salary)]) <= 50000"
   ]
  },
  {
   "cell_type": "code",
   "execution_count": 8,
   "metadata": {},
   "outputs": [],
   "source": [
    "# constraint: lineup must have 9 players\n",
    "prob += pulp.lpSum(player_vars.values()) == 9"
   ]
  },
  {
   "cell_type": "code",
   "execution_count": 9,
   "metadata": {},
   "outputs": [],
   "source": [
    "# add positional constraints\n",
    "prob += pulp.lpSum([v for v, pos in zip(player_vars.values(), df.pos) \n",
    "                    if pos == 'QB']) == 1\n",
    "prob += pulp.lpSum([v for v, pos in zip(player_vars.values(), df.pos) \n",
    "                    if pos == 'RB']) >= 2\n",
    "prob += pulp.lpSum([v for v, pos in zip(player_vars.values(), df.pos) \n",
    "                    if pos == 'RB']) <= 3\n",
    "prob += pulp.lpSum([v for v, pos in zip(player_vars.values(), df.pos) \n",
    "                    if pos == 'WR']) >= 3\n",
    "prob += pulp.lpSum([v for v, pos in zip(player_vars.values(), df.pos) \n",
    "                    if pos == 'WR']) <= 4\n",
    "prob += pulp.lpSum([v for v, pos in zip(player_vars.values(), df.pos) \n",
    "                    if pos == 'TE']) >= 1\n",
    "prob += pulp.lpSum([v for v, pos in zip(player_vars.values(), df.pos) \n",
    "                    if pos == 'TE']) <= 2\n",
    "prob += pulp.lpSum([v for v, pos in zip(player_vars.values(), df.pos) \n",
    "                    if pos == 'DST']) == 1"
   ]
  },
  {
   "source": [
    "## Optional Constraints"
   ],
   "cell_type": "markdown",
   "metadata": {}
  },
  {
   "cell_type": "code",
   "execution_count": 26,
   "metadata": {},
   "outputs": [],
   "source": [
    "# stacking QB and receiver\n",
    "for row in df.loc[df.pos == 'QB', :].itertuples(index=False):\n",
    "    prob += pulp.lpSum([v for k,v in player_vars.items() if\n",
    "        df.loc[df.full_name == k, 'team'].values[0] == row.team and\n",
    "                  df.loc[df.full_name == k, 'pos'].values[0] == 'WR'] +\n",
    "                  [-1 * player_vars[row.full_name]]) >= 0  "
   ]
  },
  {
   "cell_type": "code",
   "execution_count": 11,
   "metadata": {},
   "outputs": [],
   "source": [
    "# stacking QB and two other players\n",
    "for row in df.loc[df.pos == 'QB', :].itertuples(index=False):\n",
    "    prob += pulp.lpSum([v for k,v in player_vars.items() if\n",
    "                        df.loc[df.full_name == k, 'team'].values[0] == row.team and\n",
    "                        df.loc[df.full_name == k, 'pos'].values[0] in ('WR', 'TE', 'RB')] +\n",
    "                        [-2 * player_vars[row.full_name]]) >= 0  "
   ]
  },
  {
   "cell_type": "code",
   "execution_count": null,
   "metadata": {},
   "outputs": [],
   "source": [
    "# include a bringback\n",
    "for row in df.loc[df.pos == 'QB', :].itertuples(index=False):\n",
    "    prob += pulp.lpSum([v for k,v in player_vars.items() if\n",
    "        df.loc[df.full_name == k, 'team'].values[0] == row.opp and\n",
    "                  df.loc[df.full_name == k, 'pos'].values[0] == 'WR'] +\n",
    "                  [-1 * player_vars[row.full_name]]) >= 0"
   ]
  },
  {
   "source": [
    "## Solve Problem"
   ],
   "cell_type": "markdown",
   "metadata": {}
  },
  {
   "cell_type": "code",
   "execution_count": 13,
   "metadata": {},
   "outputs": [
    {
     "output_type": "stream",
     "name": "stdout",
     "text": [
      "    first_name last_name  pos team  salary   fppg\n0      Buffalo   Defense  DST  BUF    3200  21.00\n14         Tom     Brady   QB  TAM    7200  34.26\n42    Jonathan    Taylor   RB  IND    7400  41.40\n45      Darwin  Thompson   RB  KAN    4400  30.00\n87       Chris   Herndon   TE  NYJ    2800  19.30\n110    Brandin     Cooks   WR  HOU    6900  42.60\n111     Marvin     Jones   WR  DET    5100  41.00\n112    Antonio     Brown   WR  TAM    5500  39.80\n115      Chris    Godwin   WR  TAM    6600  33.30\n\n302.66\n"
     ]
    }
   ],
   "source": [
    "# solve problem and print solution\n",
    "prob.solve()\n",
    "chosen = [v.name for v in prob.variables() if v.varValue == 1]\n",
    "solution = df.loc[df.full_name.isin([c.replace('Player_', '') for c in chosen]), list(df.columns)[0:-1]]\n",
    "print(solution)\n",
    "print(f'\\n{solution.fppg.sum()}')"
   ]
  },
  {
   "cell_type": "code",
   "execution_count": null,
   "metadata": {},
   "outputs": [],
   "source": []
  }
 ]
}