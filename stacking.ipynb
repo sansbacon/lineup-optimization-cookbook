{
 "metadata": {
  "language_info": {
   "codemirror_mode": {
    "name": "ipython",
    "version": 3
   },
   "file_extension": ".py",
   "mimetype": "text/x-python",
   "name": "python",
   "nbconvert_exporter": "python",
   "pygments_lexer": "ipython3",
   "version": "3.9.1-final"
  },
  "orig_nbformat": 2,
  "kernelspec": {
   "name": "python39164bitlineupoptimizationcookbookconda49472229ec7a4a11ac2c7d808d8c261d",
   "display_name": "Python 3.9.1 64-bit ('lineup-optimization-cookbook': conda)",
   "language": "python"
  }
 },
 "nbformat": 4,
 "nbformat_minor": 2,
 "cells": [
  {
   "source": [
    "# Stacking often is not optimal, but that's OK because projections can't really be optimized"
   ],
   "cell_type": "markdown",
   "metadata": {}
  },
  {
   "source": [
    "This notebook shows how stacking often is not optimal when projections are correct (or when looking at 'perfect' lineups). However, stacking makes sense given the inaccuracies that plague even the best projections.\n"
   ],
   "cell_type": "markdown",
   "metadata": {}
  },
  {
   "cell_type": "code",
   "execution_count": null,
   "metadata": {},
   "outputs": [],
   "source": [
    "from pprint import pprint\n",
    "\n",
    "import pandas as pd\n",
    "import pulp"
   ]
  },
  {
   "cell_type": "code",
   "execution_count": 1,
   "metadata": {},
   "outputs": [],
   "source": [
    "def optimize(df, stack=None):\n",
    "    \"\"\"Optimizes lineup\n",
    "\n",
    "    Args:\n",
    "        df (pd.DataFrame)\n",
    "        stack (int): number of players to stack with QB, default None\n",
    "\n",
    "    Returns:\n",
    "        pd.DataFrame\n",
    "\n",
    "    \"\"\"\n",
    "    prob = pulp.LpProblem('FPOpt', pulp.LpMaximize)\n",
    "    player_vars = pulp.LpVariable.dicts('Player', df.full_name, cat='Binary')\n",
    "    prob += pulp.lpSum([pts * pvar for pvar, pts in zip(player_vars.values(), df.fppg)])\n",
    "    prob += pulp.lpSum([sal * pvar for pvar, sal in zip(player_vars.values(), df.salary)]) <= 50000\n",
    "    prob += pulp.lpSum(player_vars.values()) == 9\n",
    "    prob += pulp.lpSum([v for v, pos in zip(player_vars.values(), df.pos) \n",
    "                    if pos == 'QB']) == 1\n",
    "    prob += pulp.lpSum([v for v, pos in zip(player_vars.values(), df.pos) \n",
    "                        if pos == 'RB']) >= 2\n",
    "    prob += pulp.lpSum([v for v, pos in zip(player_vars.values(), df.pos) \n",
    "                        if pos == 'RB']) <= 3\n",
    "    prob += pulp.lpSum([v for v, pos in zip(player_vars.values(), df.pos) \n",
    "                        if pos == 'WR']) >= 3\n",
    "    prob += pulp.lpSum([v for v, pos in zip(player_vars.values(), df.pos) \n",
    "                        if pos == 'WR']) <= 4\n",
    "    prob += pulp.lpSum([v for v, pos in zip(player_vars.values(), df.pos) \n",
    "                        if pos == 'TE']) >= 1\n",
    "    prob += pulp.lpSum([v for v, pos in zip(player_vars.values(), df.pos) \n",
    "                        if pos == 'TE']) <= 2\n",
    "    prob += pulp.lpSum([v for v, pos in zip(player_vars.values(), df.pos) \n",
    "                        if pos == 'DST']) == 1\n",
    "    if stack:\n",
    "        for row in df.loc[df.pos == 'QB', :].itertuples(index=False):\n",
    "            prob += pulp.lpSum([v for k,v in player_vars.items() if\n",
    "                df.loc[df.full_name == k, 'team'].values[0] == row.team and\n",
    "                        df.loc[df.full_name == k, 'pos'].values[0] == 'WR'] +\n",
    "                        [-stack * player_vars[row.full_name]]) >= 0  \n",
    "\n",
    "    prob.solve()\n",
    "    chosen = [v.name.replace('Player_', '') for v in prob.variables() \n",
    "              if v.varValue == 1]\n",
    "    return df.loc[df.full_name.isin(chosen), :]"
   ]
  },
  {
   "cell_type": "code",
   "execution_count": null,
   "metadata": {},
   "outputs": [],
   "source": []
  }
 ]
}