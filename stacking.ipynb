{
 "metadata": {
  "language_info": {
   "codemirror_mode": {
    "name": "ipython",
    "version": 3
   },
   "file_extension": ".py",
   "mimetype": "text/x-python",
   "name": "python",
   "nbconvert_exporter": "python",
   "pygments_lexer": "ipython3",
   "version": "3.9.1-final"
  },
  "orig_nbformat": 2,
  "kernelspec": {
   "name": "python39164bitlineupoptimizationcookbookconda49472229ec7a4a11ac2c7d808d8c261d",
   "display_name": "Python 3.9.1 64-bit ('lineup-optimization-cookbook': conda)",
   "language": "python"
  }
 },
 "nbformat": 4,
 "nbformat_minor": 2,
 "cells": [
  {
   "source": [
    "# Stacking is not necessarily optimal, but that's OK because projections can't really be optimized\n",
    "\n",
    "This notebook shows how stacking is not necessarily optimal when projections are correct (or when looking at 'perfect' lineups). However, stacking may make sense as a heuristic for dealing with the substantial inaccuracies that plague even the best projections."
   ],
   "cell_type": "markdown",
   "metadata": {}
  },
  {
   "cell_type": "code",
   "execution_count": 1,
   "metadata": {},
   "outputs": [],
   "source": [
    "import itertools\n",
    "from pprint import pprint\n",
    "import pandas as pd\n",
    "from optimize import optimize_lineup"
   ]
  },
  {
   "cell_type": "code",
   "execution_count": 2,
   "metadata": {},
   "outputs": [],
   "source": [
    "season = pd.read_csv('data/results/results_2020.csv')\n",
    "results = []"
   ]
  },
  {
   "cell_type": "code",
   "execution_count": 24,
   "metadata": {},
   "outputs": [
    {
     "output_type": "error",
     "ename": "ModuleNotFoundError",
     "evalue": "No module named 'nflschedule'",
     "traceback": [
      "\u001b[0;31m---------------------------------------------------------------------------\u001b[0m",
      "\u001b[0;31mModuleNotFoundError\u001b[0m                       Traceback (most recent call last)",
      "\u001b[0;32m<ipython-input-24-7a21f0279314>\u001b[0m in \u001b[0;36m<module>\u001b[0;34m\u001b[0m\n\u001b[0;32m----> 1\u001b[0;31m \u001b[0;32mfrom\u001b[0m \u001b[0mnflschedule\u001b[0m \u001b[0;32mimport\u001b[0m \u001b[0mmain_slate_teams\u001b[0m\u001b[0;34m\u001b[0m\u001b[0;34m\u001b[0m\u001b[0m\n\u001b[0m",
      "\u001b[0;31mModuleNotFoundError\u001b[0m: No module named 'nflschedule'"
     ]
    }
   ],
   "source": [
    "from nflschedule import main_slate_teams"
   ]
  },
  {
   "cell_type": "code",
   "execution_count": null,
   "metadata": {},
   "outputs": [],
   "source": []
  },
  {
   "cell_type": "code",
   "execution_count": 19,
   "metadata": {},
   "outputs": [],
   "source": [
    "fn = 'data/optimals/optimal_2020.pkl'\n",
    "\n",
    "try:\n",
    "    comb = pd.read_pickle(fn)\n",
    "\n",
    "except FileNotFoundError:\n",
    "    mapping = {\n",
    "        'noconstraints': (None, None),\n",
    "        'nostack': (0, None),\n",
    "        'stack1': (1, None),\n",
    "        'bb1': (None, 1),\n",
    "        'stack1bb1': (1, 1)\n",
    "    }\n",
    "\n",
    "    for week in range(1, 17):\n",
    "        print(f'Starting week {week}')\n",
    "\n",
    "        # can speed up search by limiting pool to feasible candidates\n",
    "        wdf = season.loc[(season.week == week) & (season.fppg > 5), :]\n",
    "\n",
    "        # loop through each strategy\n",
    "        dfs = []\n",
    "        for cat, params in mapping.items():\n",
    "            dfs.append(optimize_lineup(wdf, stack=params[0], bringback=params[1]).assign(strategy=cat))\n",
    "        results.append(dfs)\n",
    "\n",
    "    # results is a list of list, so use itertools to concat\n",
    "    comb = pd.concat(itertools.chain.from_iterable(results))\n",
    "\n",
    "    # save time by pickling results\n",
    "    comb.to_pickle(fn)"
   ]
  },
  {
   "cell_type": "code",
   "execution_count": 23,
   "metadata": {},
   "outputs": [
    {
     "output_type": "execute_result",
     "data": {
      "text/plain": [
       "week                1       2      3       4      5       6       7       8  \\\n",
       "strategy                                                                      \n",
       "noconstraints  288.78  293.50  314.5  316.98  289.2  294.00  321.42  281.84   \n",
       "nostack        288.78  293.50  314.5  311.16  286.1  290.24  321.42  275.84   \n",
       "stack1         287.76  288.68  311.3  316.98  289.2  294.00  318.58  281.84   \n",
       "bb1            288.78  293.50  310.7  316.98  283.5  293.64  319.74  271.84   \n",
       "stack1bb1      287.76  287.00  310.7  316.98  281.1  293.64  311.44  271.84   \n",
       "\n",
       "week                9      10      11      12      13      14      15      16  \\\n",
       "strategy                                                                        \n",
       "noconstraints  291.40  247.54  257.82  312.82  301.14  268.22  269.92  325.74   \n",
       "nostack        291.40  247.54  257.82  310.08  300.66  268.22  269.92  325.74   \n",
       "stack1         284.82  247.34  254.50  312.82  301.14  264.24  264.74  323.80   \n",
       "bb1            285.12  243.32  257.82  308.42  300.66  262.22  269.72  316.04   \n",
       "stack1bb1      282.28  242.70  252.76  308.42  294.16  259.94  263.92  306.88   \n",
       "\n",
       "week                 avg  \n",
       "strategy                  \n",
       "noconstraints  292.17625  \n",
       "nostack        290.80750  \n",
       "stack1         290.10875  \n",
       "bb1            288.87500  \n",
       "stack1bb1      285.72000  "
      ],
      "text/html": "<div>\n<style scoped>\n    .dataframe tbody tr th:only-of-type {\n        vertical-align: middle;\n    }\n\n    .dataframe tbody tr th {\n        vertical-align: top;\n    }\n\n    .dataframe thead th {\n        text-align: right;\n    }\n</style>\n<table border=\"1\" class=\"dataframe\">\n  <thead>\n    <tr style=\"text-align: right;\">\n      <th>week</th>\n      <th>1</th>\n      <th>2</th>\n      <th>3</th>\n      <th>4</th>\n      <th>5</th>\n      <th>6</th>\n      <th>7</th>\n      <th>8</th>\n      <th>9</th>\n      <th>10</th>\n      <th>11</th>\n      <th>12</th>\n      <th>13</th>\n      <th>14</th>\n      <th>15</th>\n      <th>16</th>\n      <th>avg</th>\n    </tr>\n    <tr>\n      <th>strategy</th>\n      <th></th>\n      <th></th>\n      <th></th>\n      <th></th>\n      <th></th>\n      <th></th>\n      <th></th>\n      <th></th>\n      <th></th>\n      <th></th>\n      <th></th>\n      <th></th>\n      <th></th>\n      <th></th>\n      <th></th>\n      <th></th>\n      <th></th>\n    </tr>\n  </thead>\n  <tbody>\n    <tr>\n      <th>noconstraints</th>\n      <td>288.78</td>\n      <td>293.50</td>\n      <td>314.5</td>\n      <td>316.98</td>\n      <td>289.2</td>\n      <td>294.00</td>\n      <td>321.42</td>\n      <td>281.84</td>\n      <td>291.40</td>\n      <td>247.54</td>\n      <td>257.82</td>\n      <td>312.82</td>\n      <td>301.14</td>\n      <td>268.22</td>\n      <td>269.92</td>\n      <td>325.74</td>\n      <td>292.17625</td>\n    </tr>\n    <tr>\n      <th>nostack</th>\n      <td>288.78</td>\n      <td>293.50</td>\n      <td>314.5</td>\n      <td>311.16</td>\n      <td>286.1</td>\n      <td>290.24</td>\n      <td>321.42</td>\n      <td>275.84</td>\n      <td>291.40</td>\n      <td>247.54</td>\n      <td>257.82</td>\n      <td>310.08</td>\n      <td>300.66</td>\n      <td>268.22</td>\n      <td>269.92</td>\n      <td>325.74</td>\n      <td>290.80750</td>\n    </tr>\n    <tr>\n      <th>stack1</th>\n      <td>287.76</td>\n      <td>288.68</td>\n      <td>311.3</td>\n      <td>316.98</td>\n      <td>289.2</td>\n      <td>294.00</td>\n      <td>318.58</td>\n      <td>281.84</td>\n      <td>284.82</td>\n      <td>247.34</td>\n      <td>254.50</td>\n      <td>312.82</td>\n      <td>301.14</td>\n      <td>264.24</td>\n      <td>264.74</td>\n      <td>323.80</td>\n      <td>290.10875</td>\n    </tr>\n    <tr>\n      <th>bb1</th>\n      <td>288.78</td>\n      <td>293.50</td>\n      <td>310.7</td>\n      <td>316.98</td>\n      <td>283.5</td>\n      <td>293.64</td>\n      <td>319.74</td>\n      <td>271.84</td>\n      <td>285.12</td>\n      <td>243.32</td>\n      <td>257.82</td>\n      <td>308.42</td>\n      <td>300.66</td>\n      <td>262.22</td>\n      <td>269.72</td>\n      <td>316.04</td>\n      <td>288.87500</td>\n    </tr>\n    <tr>\n      <th>stack1bb1</th>\n      <td>287.76</td>\n      <td>287.00</td>\n      <td>310.7</td>\n      <td>316.98</td>\n      <td>281.1</td>\n      <td>293.64</td>\n      <td>311.44</td>\n      <td>271.84</td>\n      <td>282.28</td>\n      <td>242.70</td>\n      <td>252.76</td>\n      <td>308.42</td>\n      <td>294.16</td>\n      <td>259.94</td>\n      <td>263.92</td>\n      <td>306.88</td>\n      <td>285.72000</td>\n    </tr>\n  </tbody>\n</table>\n</div>"
     },
     "metadata": {},
     "execution_count": 23
    }
   ],
   "source": [
    "(\n",
    "  comb\n",
    "  .groupby(['strategy', 'week'], as_index=False)\n",
    "  .agg(score=('fppg', 'sum'))\n",
    "  .pivot(index='strategy', columns='week', values='score')\n",
    "  .assign(avg=lambda df_: df_.mean(axis=1))\n",
    "  .sort_values('avg', ascending=False)\n",
    ")"
   ]
  },
  {
   "source": [
    "In most weeks, the 'nostack' strategy (a rule prohibiting stacking) works as well as a rule requiring stacking (either 'stack1' or 'bb1'). A rule requiring a stack and a bringback consistently produces worse optimals, although the overall difference is roughly seven points on average.\n",
    "\n",
    "So why do experts recommend stacking and bringbacks if they don't result in optimal lineups? There are two (related) reasons. \n",
    "\n",
    "Second, you don't need the true optimal lineup to win a tournament. For smaller tournaments, you only need to beat your opponents. Even in very large tournaments (for 10+ game slates), you don't need the optimal lineup to win. The table below shows the score of the main-slate MillyMaker winner and the score of the optimal lineup."
   ],
   "cell_type": "markdown",
   "metadata": {}
  },
  {
   "cell_type": "code",
   "execution_count": 65,
   "metadata": {},
   "outputs": [
    {
     "output_type": "execute_result",
     "data": {
      "text/plain": [
       "                 sal     pts\n",
       "strategy                    \n",
       "bb1            50000  243.32\n",
       "noconstraints  45300  219.64\n",
       "nostack        45300  219.64\n",
       "stack1         45200  219.44\n",
       "stack1bb1      45400  214.80"
      ],
      "text/html": "<div>\n<style scoped>\n    .dataframe tbody tr th:only-of-type {\n        vertical-align: middle;\n    }\n\n    .dataframe tbody tr th {\n        vertical-align: top;\n    }\n\n    .dataframe thead th {\n        text-align: right;\n    }\n</style>\n<table border=\"1\" class=\"dataframe\">\n  <thead>\n    <tr style=\"text-align: right;\">\n      <th></th>\n      <th>sal</th>\n      <th>pts</th>\n    </tr>\n    <tr>\n      <th>strategy</th>\n      <th></th>\n      <th></th>\n    </tr>\n  </thead>\n  <tbody>\n    <tr>\n      <th>bb1</th>\n      <td>50000</td>\n      <td>243.32</td>\n    </tr>\n    <tr>\n      <th>noconstraints</th>\n      <td>45300</td>\n      <td>219.64</td>\n    </tr>\n    <tr>\n      <th>nostack</th>\n      <td>45300</td>\n      <td>219.64</td>\n    </tr>\n    <tr>\n      <th>stack1</th>\n      <td>45200</td>\n      <td>219.44</td>\n    </tr>\n    <tr>\n      <th>stack1bb1</th>\n      <td>45400</td>\n      <td>214.80</td>\n    </tr>\n  </tbody>\n</table>\n</div>"
     },
     "metadata": {},
     "execution_count": 65
    }
   ],
   "source": [
    "comb.loc[comb.week == 10, :].groupby('strategy').agg(sal=('salary', 'sum'), pts=('fppg', 'sum'))"
   ]
  },
  {
   "cell_type": "code",
   "execution_count": 68,
   "metadata": {},
   "outputs": [
    {
     "output_type": "execute_result",
     "data": {
      "text/plain": [
       "Alvin_Kamara          5\n",
       "Las_Vegas_Defense     5\n",
       "Cole_Beasley          5\n",
       "DeAndre_Hopkins       5\n",
       "Josh_Jacobs           5\n",
       "Tom_Brady             3\n",
       "Hunter_Henry          3\n",
       "Ronald_Jones          3\n",
       "Nyheim_Hines          2\n",
       "Kyler_Murray          1\n",
       "Tee_Higgins           1\n",
       "Cameron_Brate         1\n",
       "Ben_Roethlisberger    1\n",
       "Rob_Gronkowski        1\n",
       "Name: full_name, dtype: int64"
      ]
     },
     "metadata": {},
     "execution_count": 68
    }
   ],
   "source": [
    "comb.loc[comb.week == 10, 'full_name'].value_counts()"
   ]
  },
  {
   "cell_type": "code",
   "execution_count": 107,
   "metadata": {},
   "outputs": [
    {
     "output_type": "execute_result",
     "data": {
      "text/plain": [
       "      year  week                 full_name pos team  opp  salary  fppg\n",
       "3766  2020    10  Marquez_Valdes-Scantling  WR  GNB  JAC    4400  27.9\n",
       "3843  2020    10            Marquise_Brown  WR  BAL  NWE    5700   3.4\n",
       "3882  2020    10          Marquez_Callaway  WR  NOR  SFO    3000   0.0"
      ],
      "text/html": "<div>\n<style scoped>\n    .dataframe tbody tr th:only-of-type {\n        vertical-align: middle;\n    }\n\n    .dataframe tbody tr th {\n        vertical-align: top;\n    }\n\n    .dataframe thead th {\n        text-align: right;\n    }\n</style>\n<table border=\"1\" class=\"dataframe\">\n  <thead>\n    <tr style=\"text-align: right;\">\n      <th></th>\n      <th>year</th>\n      <th>week</th>\n      <th>full_name</th>\n      <th>pos</th>\n      <th>team</th>\n      <th>opp</th>\n      <th>salary</th>\n      <th>fppg</th>\n    </tr>\n  </thead>\n  <tbody>\n    <tr>\n      <th>3766</th>\n      <td>2020</td>\n      <td>10</td>\n      <td>Marquez_Valdes-Scantling</td>\n      <td>WR</td>\n      <td>GNB</td>\n      <td>JAC</td>\n      <td>4400</td>\n      <td>27.9</td>\n    </tr>\n    <tr>\n      <th>3843</th>\n      <td>2020</td>\n      <td>10</td>\n      <td>Marquise_Brown</td>\n      <td>WR</td>\n      <td>BAL</td>\n      <td>NWE</td>\n      <td>5700</td>\n      <td>3.4</td>\n    </tr>\n    <tr>\n      <th>3882</th>\n      <td>2020</td>\n      <td>10</td>\n      <td>Marquez_Callaway</td>\n      <td>WR</td>\n      <td>NOR</td>\n      <td>SFO</td>\n      <td>3000</td>\n      <td>0.0</td>\n    </tr>\n  </tbody>\n</table>\n</div>"
     },
     "metadata": {},
     "execution_count": 107
    }
   ],
   "source": [
    "season.loc[(season.week == 10) & (season.full_name.str.contains('Marq')), :]"
   ]
  },
  {
   "source": [
    "# Projections are quite inaccurate, so stacking may help compensate for inevitable errors"
   ],
   "cell_type": "markdown",
   "metadata": {}
  },
  {
   "cell_type": "code",
   "execution_count": null,
   "metadata": {},
   "outputs": [],
   "source": []
  }
 ]
}